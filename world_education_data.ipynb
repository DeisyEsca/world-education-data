{
  "nbformat": 4,
  "nbformat_minor": 0,
  "metadata": {
    "colab": {
      "provenance": []
    },
    "kernelspec": {
      "name": "python3",
      "display_name": "Python 3"
    },
    "language_info": {
      "name": "python"
    }
  },
  "cells": [
    {
      "cell_type": "code",
      "execution_count": 1,
      "metadata": {
        "colab": {
          "base_uri": "https://localhost:8080/",
          "height": 73
        },
        "id": "cZjooTymDao3",
        "outputId": "2b411ab1-f421-4db2-8d8b-37389769eb43"
      },
      "outputs": [
        {
          "output_type": "display_data",
          "data": {
            "text/plain": [
              "<IPython.core.display.HTML object>"
            ],
            "text/html": [
              "\n",
              "     <input type=\"file\" id=\"files-b4255cd5-e4d6-4b42-8d91-f7dc966a2e04\" name=\"files[]\" multiple disabled\n",
              "        style=\"border:none\" />\n",
              "     <output id=\"result-b4255cd5-e4d6-4b42-8d91-f7dc966a2e04\">\n",
              "      Upload widget is only available when the cell has been executed in the\n",
              "      current browser session. Please rerun this cell to enable.\n",
              "      </output>\n",
              "      <script>// Copyright 2017 Google LLC\n",
              "//\n",
              "// Licensed under the Apache License, Version 2.0 (the \"License\");\n",
              "// you may not use this file except in compliance with the License.\n",
              "// You may obtain a copy of the License at\n",
              "//\n",
              "//      http://www.apache.org/licenses/LICENSE-2.0\n",
              "//\n",
              "// Unless required by applicable law or agreed to in writing, software\n",
              "// distributed under the License is distributed on an \"AS IS\" BASIS,\n",
              "// WITHOUT WARRANTIES OR CONDITIONS OF ANY KIND, either express or implied.\n",
              "// See the License for the specific language governing permissions and\n",
              "// limitations under the License.\n",
              "\n",
              "/**\n",
              " * @fileoverview Helpers for google.colab Python module.\n",
              " */\n",
              "(function(scope) {\n",
              "function span(text, styleAttributes = {}) {\n",
              "  const element = document.createElement('span');\n",
              "  element.textContent = text;\n",
              "  for (const key of Object.keys(styleAttributes)) {\n",
              "    element.style[key] = styleAttributes[key];\n",
              "  }\n",
              "  return element;\n",
              "}\n",
              "\n",
              "// Max number of bytes which will be uploaded at a time.\n",
              "const MAX_PAYLOAD_SIZE = 100 * 1024;\n",
              "\n",
              "function _uploadFiles(inputId, outputId) {\n",
              "  const steps = uploadFilesStep(inputId, outputId);\n",
              "  const outputElement = document.getElementById(outputId);\n",
              "  // Cache steps on the outputElement to make it available for the next call\n",
              "  // to uploadFilesContinue from Python.\n",
              "  outputElement.steps = steps;\n",
              "\n",
              "  return _uploadFilesContinue(outputId);\n",
              "}\n",
              "\n",
              "// This is roughly an async generator (not supported in the browser yet),\n",
              "// where there are multiple asynchronous steps and the Python side is going\n",
              "// to poll for completion of each step.\n",
              "// This uses a Promise to block the python side on completion of each step,\n",
              "// then passes the result of the previous step as the input to the next step.\n",
              "function _uploadFilesContinue(outputId) {\n",
              "  const outputElement = document.getElementById(outputId);\n",
              "  const steps = outputElement.steps;\n",
              "\n",
              "  const next = steps.next(outputElement.lastPromiseValue);\n",
              "  return Promise.resolve(next.value.promise).then((value) => {\n",
              "    // Cache the last promise value to make it available to the next\n",
              "    // step of the generator.\n",
              "    outputElement.lastPromiseValue = value;\n",
              "    return next.value.response;\n",
              "  });\n",
              "}\n",
              "\n",
              "/**\n",
              " * Generator function which is called between each async step of the upload\n",
              " * process.\n",
              " * @param {string} inputId Element ID of the input file picker element.\n",
              " * @param {string} outputId Element ID of the output display.\n",
              " * @return {!Iterable<!Object>} Iterable of next steps.\n",
              " */\n",
              "function* uploadFilesStep(inputId, outputId) {\n",
              "  const inputElement = document.getElementById(inputId);\n",
              "  inputElement.disabled = false;\n",
              "\n",
              "  const outputElement = document.getElementById(outputId);\n",
              "  outputElement.innerHTML = '';\n",
              "\n",
              "  const pickedPromise = new Promise((resolve) => {\n",
              "    inputElement.addEventListener('change', (e) => {\n",
              "      resolve(e.target.files);\n",
              "    });\n",
              "  });\n",
              "\n",
              "  const cancel = document.createElement('button');\n",
              "  inputElement.parentElement.appendChild(cancel);\n",
              "  cancel.textContent = 'Cancel upload';\n",
              "  const cancelPromise = new Promise((resolve) => {\n",
              "    cancel.onclick = () => {\n",
              "      resolve(null);\n",
              "    };\n",
              "  });\n",
              "\n",
              "  // Wait for the user to pick the files.\n",
              "  const files = yield {\n",
              "    promise: Promise.race([pickedPromise, cancelPromise]),\n",
              "    response: {\n",
              "      action: 'starting',\n",
              "    }\n",
              "  };\n",
              "\n",
              "  cancel.remove();\n",
              "\n",
              "  // Disable the input element since further picks are not allowed.\n",
              "  inputElement.disabled = true;\n",
              "\n",
              "  if (!files) {\n",
              "    return {\n",
              "      response: {\n",
              "        action: 'complete',\n",
              "      }\n",
              "    };\n",
              "  }\n",
              "\n",
              "  for (const file of files) {\n",
              "    const li = document.createElement('li');\n",
              "    li.append(span(file.name, {fontWeight: 'bold'}));\n",
              "    li.append(span(\n",
              "        `(${file.type || 'n/a'}) - ${file.size} bytes, ` +\n",
              "        `last modified: ${\n",
              "            file.lastModifiedDate ? file.lastModifiedDate.toLocaleDateString() :\n",
              "                                    'n/a'} - `));\n",
              "    const percent = span('0% done');\n",
              "    li.appendChild(percent);\n",
              "\n",
              "    outputElement.appendChild(li);\n",
              "\n",
              "    const fileDataPromise = new Promise((resolve) => {\n",
              "      const reader = new FileReader();\n",
              "      reader.onload = (e) => {\n",
              "        resolve(e.target.result);\n",
              "      };\n",
              "      reader.readAsArrayBuffer(file);\n",
              "    });\n",
              "    // Wait for the data to be ready.\n",
              "    let fileData = yield {\n",
              "      promise: fileDataPromise,\n",
              "      response: {\n",
              "        action: 'continue',\n",
              "      }\n",
              "    };\n",
              "\n",
              "    // Use a chunked sending to avoid message size limits. See b/62115660.\n",
              "    let position = 0;\n",
              "    do {\n",
              "      const length = Math.min(fileData.byteLength - position, MAX_PAYLOAD_SIZE);\n",
              "      const chunk = new Uint8Array(fileData, position, length);\n",
              "      position += length;\n",
              "\n",
              "      const base64 = btoa(String.fromCharCode.apply(null, chunk));\n",
              "      yield {\n",
              "        response: {\n",
              "          action: 'append',\n",
              "          file: file.name,\n",
              "          data: base64,\n",
              "        },\n",
              "      };\n",
              "\n",
              "      let percentDone = fileData.byteLength === 0 ?\n",
              "          100 :\n",
              "          Math.round((position / fileData.byteLength) * 100);\n",
              "      percent.textContent = `${percentDone}% done`;\n",
              "\n",
              "    } while (position < fileData.byteLength);\n",
              "  }\n",
              "\n",
              "  // All done.\n",
              "  yield {\n",
              "    response: {\n",
              "      action: 'complete',\n",
              "    }\n",
              "  };\n",
              "}\n",
              "\n",
              "scope.google = scope.google || {};\n",
              "scope.google.colab = scope.google.colab || {};\n",
              "scope.google.colab._files = {\n",
              "  _uploadFiles,\n",
              "  _uploadFilesContinue,\n",
              "};\n",
              "})(self);\n",
              "</script> "
            ]
          },
          "metadata": {}
        },
        {
          "output_type": "stream",
          "name": "stdout",
          "text": [
            "Saving world-education-data.csv to world-education-data.csv\n"
          ]
        }
      ],
      "source": [
        "from google.colab import files\n",
        "uploaded = files.upload()\n"
      ]
    },
    {
      "cell_type": "code",
      "source": [
        "import pandas as pd\n",
        "\n",
        "# Leer el archivo subido\n",
        "file_name = list(uploaded.keys())[0]  # Obtener el nombre del archivo subido\n",
        "df = pd.read_csv(file_name)\n",
        "\n",
        "# Mostrar las primeras filas del DataFrame\n",
        "print(df.head())\n"
      ],
      "metadata": {
        "colab": {
          "base_uri": "https://localhost:8080/"
        },
        "id": "-of5sWmgDklG",
        "outputId": "6ef4c3d4-337d-4b46-c82a-10d9f7e2db18"
      },
      "execution_count": 3,
      "outputs": [
        {
          "output_type": "stream",
          "name": "stdout",
          "text": [
            "       country country_code  year  gov_exp_pct_gdp  lit_rate_adult_pct  \\\n",
            "0  Afghanistan          AFG  1999              NaN                 NaN   \n",
            "1  Afghanistan          AFG  2000              NaN                 NaN   \n",
            "2  Afghanistan          AFG  2001              NaN                 NaN   \n",
            "3  Afghanistan          AFG  2002              NaN                 NaN   \n",
            "4  Afghanistan          AFG  2003              NaN                 NaN   \n",
            "\n",
            "   pri_comp_rate_pct  pupil_teacher_primary  pupil_teacher_secondary  \\\n",
            "0                NaN               33.18571                      NaN   \n",
            "1                NaN                    NaN                      NaN   \n",
            "2                NaN                    NaN                      NaN   \n",
            "3                NaN                    NaN                      NaN   \n",
            "4                NaN                    NaN                      NaN   \n",
            "\n",
            "   school_enrol_primary_pct  school_enrol_secondary_pct  \\\n",
            "0                 27.298849                         NaN   \n",
            "1                 22.162991                         NaN   \n",
            "2                 22.908590                    14.47151   \n",
            "3                 75.959747                         NaN   \n",
            "4                 96.553680                    14.07805   \n",
            "\n",
            "   school_enrol_tertiary_pct  \n",
            "0                        NaN  \n",
            "1                        NaN  \n",
            "2                        NaN  \n",
            "3                        NaN  \n",
            "4                    1.38107  \n"
          ]
        }
      ]
    },
    {
      "cell_type": "code",
      "source": [
        "# Información general del dataset\n",
        "print(\"\\nInformación general:\")\n",
        "print(df.info())"
      ],
      "metadata": {
        "colab": {
          "base_uri": "https://localhost:8080/"
        },
        "id": "EaESCxiHEO1G",
        "outputId": "3f5e1c53-f8c5-4e61-802d-ff3f991a842e"
      },
      "execution_count": 4,
      "outputs": [
        {
          "output_type": "stream",
          "name": "stdout",
          "text": [
            "\n",
            "Información general:\n",
            "<class 'pandas.core.frame.DataFrame'>\n",
            "RangeIndex: 5892 entries, 0 to 5891\n",
            "Data columns (total 11 columns):\n",
            " #   Column                      Non-Null Count  Dtype  \n",
            "---  ------                      --------------  -----  \n",
            " 0   country                     5892 non-null   object \n",
            " 1   country_code                5892 non-null   object \n",
            " 2   year                        5892 non-null   int64  \n",
            " 3   gov_exp_pct_gdp             4499 non-null   float64\n",
            " 4   lit_rate_adult_pct          1877 non-null   float64\n",
            " 5   pri_comp_rate_pct           4440 non-null   float64\n",
            " 6   pupil_teacher_primary       3676 non-null   float64\n",
            " 7   pupil_teacher_secondary     3017 non-null   float64\n",
            " 8   school_enrol_primary_pct    5352 non-null   float64\n",
            " 9   school_enrol_secondary_pct  4745 non-null   float64\n",
            " 10  school_enrol_tertiary_pct   4392 non-null   float64\n",
            "dtypes: float64(8), int64(1), object(2)\n",
            "memory usage: 506.5+ KB\n",
            "None\n"
          ]
        }
      ]
    },
    {
      "cell_type": "code",
      "source": [
        "# Paso 3: Eliminar duplicados\n",
        "df = df.drop_duplicates()"
      ],
      "metadata": {
        "id": "4e3l7OoQEUx5"
      },
      "execution_count": 5,
      "outputs": []
    },
    {
      "cell_type": "code",
      "source": [
        "# Paso 4: Eliminar filas con valores nulos en todas las columnas\n",
        "df = df.dropna()"
      ],
      "metadata": {
        "id": "0fPRWEmCEXYu"
      },
      "execution_count": 7,
      "outputs": []
    },
    {
      "cell_type": "code",
      "source": [
        "print(\"\\nDatos después de la limpieza:\")\n",
        "print(df.info())"
      ],
      "metadata": {
        "colab": {
          "base_uri": "https://localhost:8080/"
        },
        "id": "AlfbUarmEhFo",
        "outputId": "f7b2fcc7-c675-4992-b817-fb27c69a9f15"
      },
      "execution_count": 8,
      "outputs": [
        {
          "output_type": "stream",
          "name": "stdout",
          "text": [
            "\n",
            "Datos después de la limpieza:\n",
            "<class 'pandas.core.frame.DataFrame'>\n",
            "Index: 871 entries, 82 to 5829\n",
            "Data columns (total 11 columns):\n",
            " #   Column                      Non-Null Count  Dtype  \n",
            "---  ------                      --------------  -----  \n",
            " 0   country                     871 non-null    object \n",
            " 1   country_code                871 non-null    object \n",
            " 2   year                        871 non-null    int64  \n",
            " 3   gov_exp_pct_gdp             871 non-null    float64\n",
            " 4   lit_rate_adult_pct          871 non-null    float64\n",
            " 5   pri_comp_rate_pct           871 non-null    float64\n",
            " 6   pupil_teacher_primary       871 non-null    float64\n",
            " 7   pupil_teacher_secondary     871 non-null    float64\n",
            " 8   school_enrol_primary_pct    871 non-null    float64\n",
            " 9   school_enrol_secondary_pct  871 non-null    float64\n",
            " 10  school_enrol_tertiary_pct   871 non-null    float64\n",
            "dtypes: float64(8), int64(1), object(2)\n",
            "memory usage: 81.7+ KB\n",
            "None\n"
          ]
        }
      ]
    },
    {
      "cell_type": "code",
      "source": [
        "# Paso 5: Guardar los datos limpios como un archivo CSV temporal\n",
        "df.to_csv('cleaned_data.csv', index=False)\n",
        "print(\"\\nArchivo 'cleaned_data.csv' guardado.\")"
      ],
      "metadata": {
        "colab": {
          "base_uri": "https://localhost:8080/"
        },
        "id": "GkPYibzzEilD",
        "outputId": "58eb2ed8-c778-47c1-c612-8ea71102b937"
      },
      "execution_count": 9,
      "outputs": [
        {
          "output_type": "stream",
          "name": "stdout",
          "text": [
            "\n",
            "Archivo 'cleaned_data.csv' guardado.\n"
          ]
        }
      ]
    },
    {
      "cell_type": "code",
      "source": [
        "# Cargar el soporte de R en Google Colab\n",
        "%load_ext rpy2.ipython\n"
      ],
      "metadata": {
        "id": "a2J7aGBYEnV-"
      },
      "execution_count": 11,
      "outputs": []
    },
    {
      "cell_type": "code",
      "source": [
        "!pip install rpy2\n"
      ],
      "metadata": {
        "colab": {
          "base_uri": "https://localhost:8080/"
        },
        "id": "vdQnYkzGE2MV",
        "outputId": "c58ddf47-f289-4936-b6b0-0608623b8b69"
      },
      "execution_count": 13,
      "outputs": [
        {
          "output_type": "stream",
          "name": "stdout",
          "text": [
            "Requirement already satisfied: rpy2 in /usr/local/lib/python3.10/dist-packages (3.4.2)\n",
            "Requirement already satisfied: cffi>=1.10.0 in /usr/local/lib/python3.10/dist-packages (from rpy2) (1.17.1)\n",
            "Requirement already satisfied: jinja2 in /usr/local/lib/python3.10/dist-packages (from rpy2) (3.1.4)\n",
            "Requirement already satisfied: pytz in /usr/local/lib/python3.10/dist-packages (from rpy2) (2024.2)\n",
            "Requirement already satisfied: tzlocal in /usr/local/lib/python3.10/dist-packages (from rpy2) (5.2)\n",
            "Requirement already satisfied: pycparser in /usr/local/lib/python3.10/dist-packages (from cffi>=1.10.0->rpy2) (2.22)\n",
            "Requirement already satisfied: MarkupSafe>=2.0 in /usr/local/lib/python3.10/dist-packages (from jinja2->rpy2) (3.0.2)\n"
          ]
        }
      ]
    },
    {
      "cell_type": "code",
      "source": [
        "%%R\n",
        "# Leer el archivo CSV\n",
        "data <- read.csv('cleaned_data.csv')\n",
        "\n",
        "# Mostrar los nombres de las columnas\n",
        "print(colnames(data))\n"
      ],
      "metadata": {
        "colab": {
          "base_uri": "https://localhost:8080/"
        },
        "id": "cEAxhsJUE2Ny",
        "outputId": "08fb5cc9-969e-4916-8deb-2f2d47fa1213"
      },
      "execution_count": 15,
      "outputs": [
        {
          "output_type": "stream",
          "name": "stdout",
          "text": [
            " [1] \"country\"                    \"country_code\"              \n",
            " [3] \"year\"                       \"gov_exp_pct_gdp\"           \n",
            " [5] \"lit_rate_adult_pct\"         \"pri_comp_rate_pct\"         \n",
            " [7] \"pupil_teacher_primary\"      \"pupil_teacher_secondary\"   \n",
            " [9] \"school_enrol_primary_pct\"   \"school_enrol_secondary_pct\"\n",
            "[11] \"school_enrol_tertiary_pct\" \n"
          ]
        }
      ]
    },
    {
      "cell_type": "code",
      "source": [
        "%%R\n",
        "# Leer el archivo CSV\n",
        "data <- read.csv('cleaned_data.csv')\n",
        "\n",
        "# Cargar la librería dplyr\n",
        "if (!require(dplyr)) {\n",
        "    install.packages(\"dplyr\")\n",
        "    library(dplyr)\n",
        "}\n",
        "\n",
        "# Filtrar filas donde la tasa de alfabetización no sea nula\n",
        "data <- data %>%\n",
        "    filter(!is.na(lit_rate_adult_pct)) %>%  # Filtrar filas con valores no nulos\n",
        "    distinct() %>%                          # Eliminar duplicados\n",
        "    mutate(new_column = lit_rate_adult_pct * 2)  # Crear una nueva columna con valores duplicados\n",
        "\n",
        "# Mostrar las primeras filas después de las transformaciones\n",
        "print(\"Datos después de la transformación:\")\n",
        "head(data)\n"
      ],
      "metadata": {
        "colab": {
          "base_uri": "https://localhost:8080/"
        },
        "id": "IcIIwoTkGC9o",
        "outputId": "ba3362ff-6e17-4661-ab45-243ab7aaa07b"
      },
      "execution_count": 17,
      "outputs": [
        {
          "output_type": "stream",
          "name": "stdout",
          "text": [
            "[1] \"Datos después de la transformación:\"\n",
            "     country country_code year gov_exp_pct_gdp lit_rate_adult_pct\n",
            "1    Albania          ALB 2008        3.509226           96.00000\n",
            "2    Albania          ALB 2011        3.240008           97.00000\n",
            "3    Albania          ALB 2012        3.309061           97.00000\n",
            "4    Albania          ALB 2017        3.611720           98.81623\n",
            "5 Arab World          ARB 2002        5.032867           67.29463\n",
            "6 Arab World          ARB 2004        5.021100           70.86917\n",
            "  pri_comp_rate_pct pupil_teacher_primary pupil_teacher_secondary\n",
            "1         109.74263              19.40780                16.79416\n",
            "2         100.50096              19.86917                15.24414\n",
            "3         117.00847              19.48298                14.89293\n",
            "4         106.44969              17.94478                11.60265\n",
            "5          76.78046              21.79427                16.50426\n",
            "6          79.89771              21.24495                16.56364\n",
            "  school_enrol_primary_pct school_enrol_secondary_pct school_enrol_tertiary_pct\n",
            "1                100.38300                   87.83384                  31.68396\n",
            "2                101.58027                   95.47053                  49.39970\n",
            "3                102.06736                   97.60807                  58.62142\n",
            "4                105.41497                   97.57437                  58.01778\n",
            "5                 88.43928                   60.70972                  18.82526\n",
            "6                 89.92669                   64.28891                  20.12494\n",
            "  new_column\n",
            "1   192.0000\n",
            "2   194.0000\n",
            "3   194.0000\n",
            "4   197.6325\n",
            "5   134.5893\n",
            "6   141.7383\n"
          ]
        }
      ]
    },
    {
      "cell_type": "code",
      "source": [],
      "metadata": {
        "id": "CtLy5uUQGC-3"
      },
      "execution_count": null,
      "outputs": []
    }
  ]
}